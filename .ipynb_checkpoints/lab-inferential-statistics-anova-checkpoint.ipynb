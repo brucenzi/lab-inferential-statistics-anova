{
 "cells": [
  {
   "cell_type": "code",
   "execution_count": 1,
   "id": "94b1120d",
   "metadata": {},
   "outputs": [],
   "source": [
    "import pandas as pd\n",
    "import math as m\n",
    "import scipy.stats as stats"
   ]
  },
  {
   "cell_type": "code",
   "execution_count": 3,
   "id": "8520e006",
   "metadata": {},
   "outputs": [
    {
     "data": {
      "text/html": [
       "<div>\n",
       "<style scoped>\n",
       "    .dataframe tbody tr th:only-of-type {\n",
       "        vertical-align: middle;\n",
       "    }\n",
       "\n",
       "    .dataframe tbody tr th {\n",
       "        vertical-align: top;\n",
       "    }\n",
       "\n",
       "    .dataframe thead th {\n",
       "        text-align: right;\n",
       "    }\n",
       "</style>\n",
       "<table border=\"1\" class=\"dataframe\">\n",
       "  <thead>\n",
       "    <tr style=\"text-align: right;\">\n",
       "      <th></th>\n",
       "      <th>Power</th>\n",
       "      <th>Etching Rate</th>\n",
       "    </tr>\n",
       "  </thead>\n",
       "  <tbody>\n",
       "    <tr>\n",
       "      <th>0</th>\n",
       "      <td>160 W</td>\n",
       "      <td>5.43</td>\n",
       "    </tr>\n",
       "    <tr>\n",
       "      <th>1</th>\n",
       "      <td>180 W</td>\n",
       "      <td>6.24</td>\n",
       "    </tr>\n",
       "    <tr>\n",
       "      <th>2</th>\n",
       "      <td>200 W</td>\n",
       "      <td>8.79</td>\n",
       "    </tr>\n",
       "    <tr>\n",
       "      <th>3</th>\n",
       "      <td>160 W</td>\n",
       "      <td>5.71</td>\n",
       "    </tr>\n",
       "    <tr>\n",
       "      <th>4</th>\n",
       "      <td>180 W</td>\n",
       "      <td>6.71</td>\n",
       "    </tr>\n",
       "    <tr>\n",
       "      <th>5</th>\n",
       "      <td>200 W</td>\n",
       "      <td>9.20</td>\n",
       "    </tr>\n",
       "    <tr>\n",
       "      <th>6</th>\n",
       "      <td>160 W</td>\n",
       "      <td>6.22</td>\n",
       "    </tr>\n",
       "    <tr>\n",
       "      <th>7</th>\n",
       "      <td>180 W</td>\n",
       "      <td>5.98</td>\n",
       "    </tr>\n",
       "    <tr>\n",
       "      <th>8</th>\n",
       "      <td>200 W</td>\n",
       "      <td>7.90</td>\n",
       "    </tr>\n",
       "    <tr>\n",
       "      <th>9</th>\n",
       "      <td>160 W</td>\n",
       "      <td>6.01</td>\n",
       "    </tr>\n",
       "    <tr>\n",
       "      <th>10</th>\n",
       "      <td>180 W</td>\n",
       "      <td>5.66</td>\n",
       "    </tr>\n",
       "    <tr>\n",
       "      <th>11</th>\n",
       "      <td>200 W</td>\n",
       "      <td>8.15</td>\n",
       "    </tr>\n",
       "    <tr>\n",
       "      <th>12</th>\n",
       "      <td>160 W</td>\n",
       "      <td>5.59</td>\n",
       "    </tr>\n",
       "    <tr>\n",
       "      <th>13</th>\n",
       "      <td>180 W</td>\n",
       "      <td>6.60</td>\n",
       "    </tr>\n",
       "    <tr>\n",
       "      <th>14</th>\n",
       "      <td>200 W</td>\n",
       "      <td>7.55</td>\n",
       "    </tr>\n",
       "  </tbody>\n",
       "</table>\n",
       "</div>"
      ],
      "text/plain": [
       "   Power   Etching Rate\n",
       "0   160 W          5.43\n",
       "1   180 W          6.24\n",
       "2   200 W          8.79\n",
       "3   160 W          5.71\n",
       "4   180 W          6.71\n",
       "5   200 W          9.20\n",
       "6   160 W          6.22\n",
       "7   180 W          5.98\n",
       "8   200 W          7.90\n",
       "9   160 W          6.01\n",
       "10  180 W          5.66\n",
       "11  200 W          8.15\n",
       "12  160 W          5.59\n",
       "13  180 W          6.60\n",
       "14  200 W          7.55"
      ]
     },
     "execution_count": 3,
     "metadata": {},
     "output_type": "execute_result"
    }
   ],
   "source": [
    "df = pd.read_excel('files_for_lab/anova_lab_data.xlsx')\n",
    "df"
   ]
  },
  {
   "cell_type": "code",
   "execution_count": 6,
   "id": "39525edc",
   "metadata": {},
   "outputs": [
    {
     "data": {
      "text/plain": [
       "Index(['Power ', 'Etching Rate'], dtype='object')"
      ]
     },
     "execution_count": 6,
     "metadata": {},
     "output_type": "execute_result"
    }
   ],
   "source": [
    "df.columns"
   ]
  },
  {
   "cell_type": "code",
   "execution_count": 9,
   "id": "a72336c8",
   "metadata": {},
   "outputs": [
    {
     "name": "stdout",
     "output_type": "stream",
     "text": [
      "[5.43, 5.71, 6.22, 6.01, 5.59]\n",
      "[6.24, 6.71, 5.98, 5.66, 6.6]\n",
      "[8.79, 9.2, 7.9, 8.15, 7.55]\n"
     ]
    }
   ],
   "source": [
    "W1 = list(df[df['Power ']=='160 W']['Etching Rate']) # 160 W\n",
    "W2 = list(df[df['Power ']=='180 W']['Etching Rate']) # 180 W\n",
    "W3 = list(df[df['Power ']=='200 W']['Etching Rate']) # 200 W\n",
    "\n",
    "print(W1)\n",
    "print(W2)\n",
    "print(W3)"
   ]
  },
  {
   "cell_type": "code",
   "execution_count": null,
   "id": "0eba1a9e",
   "metadata": {},
   "outputs": [],
   "source": [
    "# Step 1: Set the Null and Alternate Hypothesis\n",
    "\n",
    "    # H0: Changing the power of the plasma beam does not have an effect on etching rate (all the means are equal)\n",
    "    # H1: Changing the power of the plasma beam have an effect on etching rate (mean in at least two groups is different)\n",
    "    \n",
    "# Step 2: Level of Significance\n",
    "    \n",
    "    # The hypothesis test will be conducted by using a 0.05 significance level.\n",
    "\n",
    "# Step 3: Check the assumptions to apply the ANOVA test\n",
    "\n",
    "    # Samples are independent\n",
    "    # Samples are normally distributed in the 3 groups (shapiro test)\n",
    "    \n",
    "# Step 4: Apply ANOVA \n",
    "    # Apply stats f_oneway to return F and p values\n",
    "\n",
    "# Step 5: Evaluate the results\n",
    "    # Check if the results to reject or not the null hypothesis and write the conclusions"
   ]
  },
  {
   "cell_type": "code",
   "execution_count": 10,
   "id": "4fa3c034",
   "metadata": {},
   "outputs": [
    {
     "name": "stdout",
     "output_type": "stream",
     "text": [
      "p value:0.7997\n",
      "The data is normally distributed\n"
     ]
    }
   ],
   "source": [
    "# Check normality 160 W\n",
    "\n",
    "test_stat_normality, p_value_normality = stats.shapiro(W1)\n",
    "print(\"p value:%.4f\" % p_value_normality)\n",
    "if p_value_normality <0.05:\n",
    "    print(\"The data is not normally distributed\")\n",
    "else:\n",
    "    print(\"The data is normally distributed\")"
   ]
  },
  {
   "cell_type": "code",
   "execution_count": 11,
   "id": "5d072cfc",
   "metadata": {},
   "outputs": [
    {
     "name": "stdout",
     "output_type": "stream",
     "text": [
      "p value:0.7516\n",
      "The data is normally distributed\n"
     ]
    }
   ],
   "source": [
    "# Check normality 180 W\n",
    "\n",
    "test_stat_normality, p_value_normality = stats.shapiro(W2)\n",
    "print(\"p value:%.4f\" % p_value_normality)\n",
    "if p_value_normality <0.05:\n",
    "    print(\"The data is not normally distributed\")\n",
    "else:\n",
    "    print(\"The data is normally distributed\")"
   ]
  },
  {
   "cell_type": "code",
   "execution_count": 12,
   "id": "f72f9620",
   "metadata": {},
   "outputs": [
    {
     "name": "stdout",
     "output_type": "stream",
     "text": [
      "p value:0.8010\n",
      "The data is normally distributed\n"
     ]
    }
   ],
   "source": [
    "# Check normality 200 W\n",
    "\n",
    "test_stat_normality, p_value_normality = stats.shapiro(W3)\n",
    "print(\"p value:%.4f\" % p_value_normality)\n",
    "if p_value_normality <0.05:\n",
    "    print(\"The data is not normally distributed\")\n",
    "else:\n",
    "    print(\"The data is normally distributed\")"
   ]
  },
  {
   "cell_type": "code",
   "execution_count": 26,
   "id": "d57351d2",
   "metadata": {},
   "outputs": [
    {
     "name": "stdout",
     "output_type": "stream",
     "text": [
      "p value 7.506584272358903e-06\n",
      "f value 36.87895470100505\n",
      "Reject H0: there is a difference in the means of at least two groups\n"
     ]
    }
   ],
   "source": [
    "F_critical, p_value = stats.f_oneway(W1,W2,W3)\n",
    "print(\"p value\", p_value)\n",
    "print(\"f value\", F_critical)\n",
    "if p_value < 0.05:\n",
    "    print(\"Reject H0: there is a difference in the means of at least two groups\")\n",
    "else:\n",
    "    print(\"Accept H0: the means are the same\")"
   ]
  },
  {
   "cell_type": "code",
   "execution_count": null,
   "id": "41df9acd",
   "metadata": {},
   "outputs": [],
   "source": [
    "# With a significance level of 0.05, we can conclude that Alternative Hypothesis is true: \n",
    "    # Changing the power of the plasma beam have an effect on etching rate (mean in at least two groups is different"
   ]
  },
  {
   "cell_type": "code",
   "execution_count": null,
   "id": "d3dab6f2",
   "metadata": {},
   "outputs": [],
   "source": [
    "# Below just doing the same with pandas DataFrame"
   ]
  },
  {
   "cell_type": "code",
   "execution_count": 16,
   "id": "2105ef6d",
   "metadata": {},
   "outputs": [],
   "source": [
    "df1 = pd.DataFrame() "
   ]
  },
  {
   "cell_type": "code",
   "execution_count": 17,
   "id": "b2b9fa49",
   "metadata": {},
   "outputs": [],
   "source": [
    "df1['160W'] = W1"
   ]
  },
  {
   "cell_type": "code",
   "execution_count": 19,
   "id": "d1a2f1b1",
   "metadata": {},
   "outputs": [],
   "source": [
    "df1['180W'] = W2"
   ]
  },
  {
   "cell_type": "code",
   "execution_count": 20,
   "id": "0be9fb3e",
   "metadata": {},
   "outputs": [],
   "source": [
    "df1['200W'] = W3"
   ]
  },
  {
   "cell_type": "code",
   "execution_count": 21,
   "id": "50a2121a",
   "metadata": {},
   "outputs": [
    {
     "data": {
      "text/html": [
       "<div>\n",
       "<style scoped>\n",
       "    .dataframe tbody tr th:only-of-type {\n",
       "        vertical-align: middle;\n",
       "    }\n",
       "\n",
       "    .dataframe tbody tr th {\n",
       "        vertical-align: top;\n",
       "    }\n",
       "\n",
       "    .dataframe thead th {\n",
       "        text-align: right;\n",
       "    }\n",
       "</style>\n",
       "<table border=\"1\" class=\"dataframe\">\n",
       "  <thead>\n",
       "    <tr style=\"text-align: right;\">\n",
       "      <th></th>\n",
       "      <th>160W</th>\n",
       "      <th>180W</th>\n",
       "      <th>200W</th>\n",
       "    </tr>\n",
       "  </thead>\n",
       "  <tbody>\n",
       "    <tr>\n",
       "      <th>0</th>\n",
       "      <td>5.43</td>\n",
       "      <td>6.24</td>\n",
       "      <td>8.79</td>\n",
       "    </tr>\n",
       "    <tr>\n",
       "      <th>1</th>\n",
       "      <td>5.71</td>\n",
       "      <td>6.71</td>\n",
       "      <td>9.20</td>\n",
       "    </tr>\n",
       "    <tr>\n",
       "      <th>2</th>\n",
       "      <td>6.22</td>\n",
       "      <td>5.98</td>\n",
       "      <td>7.90</td>\n",
       "    </tr>\n",
       "    <tr>\n",
       "      <th>3</th>\n",
       "      <td>6.01</td>\n",
       "      <td>5.66</td>\n",
       "      <td>8.15</td>\n",
       "    </tr>\n",
       "    <tr>\n",
       "      <th>4</th>\n",
       "      <td>5.59</td>\n",
       "      <td>6.60</td>\n",
       "      <td>7.55</td>\n",
       "    </tr>\n",
       "  </tbody>\n",
       "</table>\n",
       "</div>"
      ],
      "text/plain": [
       "   160W  180W  200W\n",
       "0  5.43  6.24  8.79\n",
       "1  5.71  6.71  9.20\n",
       "2  6.22  5.98  7.90\n",
       "3  6.01  5.66  8.15\n",
       "4  5.59  6.60  7.55"
      ]
     },
     "execution_count": 21,
     "metadata": {},
     "output_type": "execute_result"
    }
   ],
   "source": [
    "df1"
   ]
  },
  {
   "cell_type": "code",
   "execution_count": 27,
   "id": "31e5b5d5",
   "metadata": {},
   "outputs": [
    {
     "name": "stdout",
     "output_type": "stream",
     "text": [
      "p value 7.506584272358903e-06\n",
      "f value 36.87895470100505\n",
      "Reject H0: there is a difference in the means of at least two groups\n"
     ]
    }
   ],
   "source": [
    "F_critical, p_value = stats.f_oneway(df1['160W'],df1['180W'],df1['200W'])\n",
    "print(\"p value\", p_value)\n",
    "print(\"f value\", F_critical)\n",
    "if p_value < 0.05:\n",
    "    print(\"Reject H0: there is a difference in the means of at least two groups\")\n",
    "else:\n",
    "    print(\"Accept H0: the means are the same\")"
   ]
  },
  {
   "cell_type": "code",
   "execution_count": null,
   "id": "db06c8f7",
   "metadata": {},
   "outputs": [],
   "source": []
  }
 ],
 "metadata": {
  "kernelspec": {
   "display_name": "Python 3 (ipykernel)",
   "language": "python",
   "name": "python3"
  },
  "language_info": {
   "codemirror_mode": {
    "name": "ipython",
    "version": 3
   },
   "file_extension": ".py",
   "mimetype": "text/x-python",
   "name": "python",
   "nbconvert_exporter": "python",
   "pygments_lexer": "ipython3",
   "version": "3.9.12"
  }
 },
 "nbformat": 4,
 "nbformat_minor": 5
}
